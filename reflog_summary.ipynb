{
 "cells": [
  {
   "cell_type": "markdown",
   "metadata": {},
   "source": [
    "# GIS Program Summary Statistics\n",
    "Frank Donnelly, Geospatial Data Librarian\n",
    "Baruch College CUNY"
   ]
  },
  {
   "cell_type": "code",
   "execution_count": 1,
   "metadata": {},
   "outputs": [],
   "source": [
    "%matplotlib inline\n",
    "import pandas as pd\n",
    "import matplotlib.pyplot as plt\n",
    "plt.style.use('seaborn-muted')"
   ]
  },
  {
   "cell_type": "markdown",
   "metadata": {},
   "source": [
    "## Web Stats"
   ]
  },
  {
   "cell_type": "code",
   "execution_count": 2,
   "metadata": {},
   "outputs": [
    {
     "data": {
      "text/html": [
       "<div>\n",
       "<style scoped>\n",
       "    .dataframe tbody tr th:only-of-type {\n",
       "        vertical-align: middle;\n",
       "    }\n",
       "\n",
       "    .dataframe tbody tr th {\n",
       "        vertical-align: top;\n",
       "    }\n",
       "\n",
       "    .dataframe thead th {\n",
       "        text-align: right;\n",
       "    }\n",
       "</style>\n",
       "<table border=\"1\" class=\"dataframe\">\n",
       "  <thead>\n",
       "    <tr style=\"text-align: right;\">\n",
       "      <th></th>\n",
       "      <th>Page Views</th>\n",
       "      <th>Unique Views</th>\n",
       "      <th>Downloads</th>\n",
       "    </tr>\n",
       "  </thead>\n",
       "  <tbody>\n",
       "    <tr>\n",
       "      <th>2015.16</th>\n",
       "      <td>29500</td>\n",
       "      <td>23052</td>\n",
       "      <td>3561</td>\n",
       "    </tr>\n",
       "    <tr>\n",
       "      <th>2016.17</th>\n",
       "      <td>37254</td>\n",
       "      <td>29285</td>\n",
       "      <td>6807</td>\n",
       "    </tr>\n",
       "    <tr>\n",
       "      <th>2017.18</th>\n",
       "      <td>40421</td>\n",
       "      <td>31668</td>\n",
       "      <td>6682</td>\n",
       "    </tr>\n",
       "    <tr>\n",
       "      <th>2018.19</th>\n",
       "      <td>33527</td>\n",
       "      <td>26418</td>\n",
       "      <td>5208</td>\n",
       "    </tr>\n",
       "  </tbody>\n",
       "</table>\n",
       "</div>"
      ],
      "text/plain": [
       "         Page Views  Unique Views  Downloads\n",
       "2015.16       29500         23052       3561\n",
       "2016.17       37254         29285       6807\n",
       "2017.18       40421         31668       6682\n",
       "2018.19       33527         26418       5208"
      ]
     },
     "execution_count": 2,
     "metadata": {},
     "output_type": "execute_result"
    }
   ],
   "source": [
    "geoportal=pd.DataFrame({'Page Views' : [29500, 37254, 40421, 33527],\n",
    "                       'Unique Views' : [23052, 29285, 31668, 26418],\n",
    "                       'Downloads' : [3561, 6807, 6682, 5208]},\n",
    "                      index=['2015.16','2016.17','2017.18','2018.19'])\n",
    "geoportal"
   ]
  },
  {
   "cell_type": "code",
   "execution_count": 3,
   "metadata": {},
   "outputs": [
    {
     "data": {
      "image/png": "[encoded data removed]",
      "text/plain": [
       "<Figure size 432x288 with 1 Axes>"
      ]
     },
     "metadata": {
      "needs_background": "light"
     },
     "output_type": "display_data"
    }
   ],
   "source": [
    "geoportal.plot.bar(rot=0, title='Baruch Geoportal')\n",
    "plt.savefig('webfig.png')"
   ]
  },
  {
   "cell_type": "markdown",
   "metadata": {},
   "source": [
    "## Questions Answered\n",
    "Demographic, geospatial, or GIS related questions answered by email or phone"
   ]
  },
  {
   "cell_type": "code",
   "execution_count": 4,
   "metadata": {},
   "outputs": [
    {
     "data": {
      "text/html": [
       "<div>\n",
       "<style scoped>\n",
       "    .dataframe tbody tr th:only-of-type {\n",
       "        vertical-align: middle;\n",
       "    }\n",
       "\n",
       "    .dataframe tbody tr th {\n",
       "        vertical-align: top;\n",
       "    }\n",
       "\n",
       "    .dataframe thead th {\n",
       "        text-align: right;\n",
       "    }\n",
       "</style>\n",
       "<table border=\"1\" class=\"dataframe\">\n",
       "  <thead>\n",
       "    <tr style=\"text-align: right;\">\n",
       "      <th></th>\n",
       "      <th>Year</th>\n",
       "      <th>Semester</th>\n",
       "      <th>Date</th>\n",
       "      <th>Status</th>\n",
       "      <th>Question</th>\n",
       "    </tr>\n",
       "  </thead>\n",
       "  <tbody>\n",
       "    <tr>\n",
       "      <th>0</th>\n",
       "      <td>2007.08</td>\n",
       "      <td>2007FA</td>\n",
       "      <td>2007-10-02</td>\n",
       "      <td>Student</td>\n",
       "      <td>Location organic food stores lower Manhattan</td>\n",
       "    </tr>\n",
       "    <tr>\n",
       "      <th>1</th>\n",
       "      <td>2007.08</td>\n",
       "      <td>2007FA</td>\n",
       "      <td>2007-10-15</td>\n",
       "      <td>Faculty</td>\n",
       "      <td>Digital basemaps for various continents</td>\n",
       "    </tr>\n",
       "    <tr>\n",
       "      <th>2</th>\n",
       "      <td>2007.08</td>\n",
       "      <td>2007FA</td>\n",
       "      <td>2007-10-16</td>\n",
       "      <td>Faculty</td>\n",
       "      <td>Shapefiles for historical US counties</td>\n",
       "    </tr>\n",
       "    <tr>\n",
       "      <th>3</th>\n",
       "      <td>2007.08</td>\n",
       "      <td>2007FA</td>\n",
       "      <td>2007-10-22</td>\n",
       "      <td>Student</td>\n",
       "      <td>Help finding GIS computer resources</td>\n",
       "    </tr>\n",
       "    <tr>\n",
       "      <th>4</th>\n",
       "      <td>2007.08</td>\n",
       "      <td>2007FA</td>\n",
       "      <td>2007-10-23</td>\n",
       "      <td>Student</td>\n",
       "      <td>Suggestion for an ArcGIS book</td>\n",
       "    </tr>\n",
       "  </tbody>\n",
       "</table>\n",
       "</div>"
      ],
      "text/plain": [
       "      Year Semester       Date   Status  \\\n",
       "0  2007.08   2007FA 2007-10-02  Student   \n",
       "1  2007.08   2007FA 2007-10-15  Faculty   \n",
       "2  2007.08   2007FA 2007-10-16  Faculty   \n",
       "3  2007.08   2007FA 2007-10-22  Student   \n",
       "4  2007.08   2007FA 2007-10-23  Student   \n",
       "\n",
       "                                       Question  \n",
       "0  Location organic food stores lower Manhattan  \n",
       "1       Digital basemaps for various continents  \n",
       "2         Shapefiles for historical US counties  \n",
       "3           Help finding GIS computer resources  \n",
       "4                 Suggestion for an ArcGIS book  "
      ]
     },
     "execution_count": 4,
     "metadata": {},
     "output_type": "execute_result"
    }
   ],
   "source": [
    "questions = pd.read_excel('RefLog_Example.xlsx', sheet_name='Questions')\n",
    "questions.head()"
   ]
  },
  {
   "cell_type": "code",
   "execution_count": 5,
   "metadata": {},
   "outputs": [
    {
     "data": {
      "text/plain": [
       "Semester\n",
       "2007FA    25\n",
       "2008FA    11\n",
       "2008SP    15\n",
       "2008SU     6\n",
       "2009FA    15\n",
       "dtype: int64"
      ]
     },
     "execution_count": 5,
     "metadata": {},
     "output_type": "execute_result"
    }
   ],
   "source": [
    "#Summarize as a series\n",
    "questions_sem=questions.groupby(by='Semester').size()\n",
    "questions_sem.head()"
   ]
  },
  {
   "cell_type": "code",
   "execution_count": 6,
   "metadata": {},
   "outputs": [
    {
     "data": {
      "text/html": [
       "<div>\n",
       "<style scoped>\n",
       "    .dataframe tbody tr th:only-of-type {\n",
       "        vertical-align: middle;\n",
       "    }\n",
       "\n",
       "    .dataframe tbody tr th {\n",
       "        vertical-align: top;\n",
       "    }\n",
       "\n",
       "    .dataframe thead th {\n",
       "        text-align: right;\n",
       "    }\n",
       "</style>\n",
       "<table border=\"1\" class=\"dataframe\">\n",
       "  <thead>\n",
       "    <tr style=\"text-align: right;\">\n",
       "      <th></th>\n",
       "      <th>Questions</th>\n",
       "    </tr>\n",
       "    <tr>\n",
       "      <th>Year</th>\n",
       "      <th></th>\n",
       "    </tr>\n",
       "  </thead>\n",
       "  <tbody>\n",
       "    <tr>\n",
       "      <th>2007.08</th>\n",
       "      <td>46</td>\n",
       "    </tr>\n",
       "    <tr>\n",
       "      <th>2008.09</th>\n",
       "      <td>33</td>\n",
       "    </tr>\n",
       "    <tr>\n",
       "      <th>2009.10</th>\n",
       "      <td>47</td>\n",
       "    </tr>\n",
       "    <tr>\n",
       "      <th>2010.11</th>\n",
       "      <td>79</td>\n",
       "    </tr>\n",
       "    <tr>\n",
       "      <th>2011.12</th>\n",
       "      <td>93</td>\n",
       "    </tr>\n",
       "    <tr>\n",
       "      <th>2012.13</th>\n",
       "      <td>109</td>\n",
       "    </tr>\n",
       "    <tr>\n",
       "      <th>2013.14</th>\n",
       "      <td>120</td>\n",
       "    </tr>\n",
       "    <tr>\n",
       "      <th>2014.15</th>\n",
       "      <td>78</td>\n",
       "    </tr>\n",
       "    <tr>\n",
       "      <th>2015.16</th>\n",
       "      <td>92</td>\n",
       "    </tr>\n",
       "    <tr>\n",
       "      <th>2016.17</th>\n",
       "      <td>75</td>\n",
       "    </tr>\n",
       "    <tr>\n",
       "      <th>2017.18</th>\n",
       "      <td>58</td>\n",
       "    </tr>\n",
       "    <tr>\n",
       "      <th>2018.19</th>\n",
       "      <td>94</td>\n",
       "    </tr>\n",
       "  </tbody>\n",
       "</table>\n",
       "</div>"
      ],
      "text/plain": [
       "         Questions\n",
       "Year              \n",
       "2007.08         46\n",
       "2008.09         33\n",
       "2009.10         47\n",
       "2010.11         79\n",
       "2011.12         93\n",
       "2012.13        109\n",
       "2013.14        120\n",
       "2014.15         78\n",
       "2015.16         92\n",
       "2016.17         75\n",
       "2017.18         58\n",
       "2018.19         94"
      ]
     },
     "execution_count": 6,
     "metadata": {},
     "output_type": "execute_result"
    }
   ],
   "source": [
    "#Summarize as a dataframe\n",
    "questions_yr=questions[['Year','Question']].groupby(by='Year').size().reset_index(name='Questions').set_index('Year')\n",
    "questions_yr"
   ]
  },
  {
   "cell_type": "code",
   "execution_count": 7,
   "metadata": {},
   "outputs": [
    {
     "data": {
      "image/png": "[encoded data removed]",
      "text/plain": [
       "<Figure size 432x288 with 1 Axes>"
      ]
     },
     "metadata": {
      "needs_background": "light"
     },
     "output_type": "display_data"
    }
   ],
   "source": [
    "#By designating Year as index, no need to specify arguments for x and y\n",
    "questions_yr.plot.bar(rot=45, legend=None, title=\"GIS Questions\")\n",
    "plt.savefig('questions.png',bbox_inches='tight')"
   ]
  },
  {
   "cell_type": "code",
   "execution_count": 8,
   "metadata": {},
   "outputs": [],
   "source": [
    "questions_status=questions[['Year','Question','Status']].groupby(by=['Year','Status']).size().reset_index(name='Questions')"
   ]
  },
  {
   "cell_type": "code",
   "execution_count": 9,
   "metadata": {},
   "outputs": [
    {
     "data": {
      "text/html": [
       "<div>\n",
       "<style scoped>\n",
       "    .dataframe tbody tr th:only-of-type {\n",
       "        vertical-align: middle;\n",
       "    }\n",
       "\n",
       "    .dataframe tbody tr th {\n",
       "        vertical-align: top;\n",
       "    }\n",
       "\n",
       "    .dataframe thead th {\n",
       "        text-align: right;\n",
       "    }\n",
       "</style>\n",
       "<table border=\"1\" class=\"dataframe\">\n",
       "  <thead>\n",
       "    <tr style=\"text-align: right;\">\n",
       "      <th></th>\n",
       "      <th>Year</th>\n",
       "      <th>Status</th>\n",
       "      <th>Questions</th>\n",
       "    </tr>\n",
       "  </thead>\n",
       "  <tbody>\n",
       "    <tr>\n",
       "      <th>0</th>\n",
       "      <td>2007.08</td>\n",
       "      <td>CUNY</td>\n",
       "      <td>1</td>\n",
       "    </tr>\n",
       "    <tr>\n",
       "      <th>1</th>\n",
       "      <td>2007.08</td>\n",
       "      <td>Faculty</td>\n",
       "      <td>16</td>\n",
       "    </tr>\n",
       "    <tr>\n",
       "      <th>2</th>\n",
       "      <td>2007.08</td>\n",
       "      <td>Public</td>\n",
       "      <td>4</td>\n",
       "    </tr>\n",
       "    <tr>\n",
       "      <th>3</th>\n",
       "      <td>2007.08</td>\n",
       "      <td>Staff</td>\n",
       "      <td>1</td>\n",
       "    </tr>\n",
       "    <tr>\n",
       "      <th>4</th>\n",
       "      <td>2007.08</td>\n",
       "      <td>Student</td>\n",
       "      <td>24</td>\n",
       "    </tr>\n",
       "    <tr>\n",
       "      <th>5</th>\n",
       "      <td>2008.09</td>\n",
       "      <td>CUNY</td>\n",
       "      <td>1</td>\n",
       "    </tr>\n",
       "    <tr>\n",
       "      <th>6</th>\n",
       "      <td>2008.09</td>\n",
       "      <td>Faculty</td>\n",
       "      <td>10</td>\n",
       "    </tr>\n",
       "    <tr>\n",
       "      <th>7</th>\n",
       "      <td>2008.09</td>\n",
       "      <td>Public</td>\n",
       "      <td>1</td>\n",
       "    </tr>\n",
       "    <tr>\n",
       "      <th>8</th>\n",
       "      <td>2008.09</td>\n",
       "      <td>Staff</td>\n",
       "      <td>1</td>\n",
       "    </tr>\n",
       "    <tr>\n",
       "      <th>9</th>\n",
       "      <td>2008.09</td>\n",
       "      <td>Student</td>\n",
       "      <td>20</td>\n",
       "    </tr>\n",
       "  </tbody>\n",
       "</table>\n",
       "</div>"
      ],
      "text/plain": [
       "      Year   Status  Questions\n",
       "0  2007.08     CUNY          1\n",
       "1  2007.08  Faculty         16\n",
       "2  2007.08   Public          4\n",
       "3  2007.08    Staff          1\n",
       "4  2007.08  Student         24\n",
       "5  2008.09     CUNY          1\n",
       "6  2008.09  Faculty         10\n",
       "7  2008.09   Public          1\n",
       "8  2008.09    Staff          1\n",
       "9  2008.09  Student         20"
      ]
     },
     "execution_count": 9,
     "metadata": {},
     "output_type": "execute_result"
    }
   ],
   "source": [
    "questions_status.head(10)"
   ]
  },
  {
   "cell_type": "code",
   "execution_count": 10,
   "metadata": {},
   "outputs": [
    {
     "data": {
      "text/html": [
       "<div>\n",
       "<style scoped>\n",
       "    .dataframe tbody tr th:only-of-type {\n",
       "        vertical-align: middle;\n",
       "    }\n",
       "\n",
       "    .dataframe tbody tr th {\n",
       "        vertical-align: top;\n",
       "    }\n",
       "\n",
       "    .dataframe thead th {\n",
       "        text-align: right;\n",
       "    }\n",
       "</style>\n",
       "<table border=\"1\" class=\"dataframe\">\n",
       "  <thead>\n",
       "    <tr style=\"text-align: right;\">\n",
       "      <th>Status</th>\n",
       "      <th>CUNY</th>\n",
       "      <th>Faculty</th>\n",
       "      <th>Public</th>\n",
       "      <th>Staff</th>\n",
       "      <th>Student</th>\n",
       "    </tr>\n",
       "    <tr>\n",
       "      <th>Year</th>\n",
       "      <th></th>\n",
       "      <th></th>\n",
       "      <th></th>\n",
       "      <th></th>\n",
       "      <th></th>\n",
       "    </tr>\n",
       "  </thead>\n",
       "  <tbody>\n",
       "    <tr>\n",
       "      <th>2007.08</th>\n",
       "      <td>1.0</td>\n",
       "      <td>16.0</td>\n",
       "      <td>4.0</td>\n",
       "      <td>1.0</td>\n",
       "      <td>24.0</td>\n",
       "    </tr>\n",
       "    <tr>\n",
       "      <th>2008.09</th>\n",
       "      <td>1.0</td>\n",
       "      <td>10.0</td>\n",
       "      <td>1.0</td>\n",
       "      <td>1.0</td>\n",
       "      <td>20.0</td>\n",
       "    </tr>\n",
       "    <tr>\n",
       "      <th>2009.10</th>\n",
       "      <td>4.0</td>\n",
       "      <td>5.0</td>\n",
       "      <td>9.0</td>\n",
       "      <td>3.0</td>\n",
       "      <td>26.0</td>\n",
       "    </tr>\n",
       "    <tr>\n",
       "      <th>2010.11</th>\n",
       "      <td>16.0</td>\n",
       "      <td>11.0</td>\n",
       "      <td>22.0</td>\n",
       "      <td>NaN</td>\n",
       "      <td>30.0</td>\n",
       "    </tr>\n",
       "    <tr>\n",
       "      <th>2011.12</th>\n",
       "      <td>24.0</td>\n",
       "      <td>8.0</td>\n",
       "      <td>31.0</td>\n",
       "      <td>NaN</td>\n",
       "      <td>30.0</td>\n",
       "    </tr>\n",
       "    <tr>\n",
       "      <th>2012.13</th>\n",
       "      <td>24.0</td>\n",
       "      <td>12.0</td>\n",
       "      <td>20.0</td>\n",
       "      <td>6.0</td>\n",
       "      <td>47.0</td>\n",
       "    </tr>\n",
       "    <tr>\n",
       "      <th>2013.14</th>\n",
       "      <td>34.0</td>\n",
       "      <td>12.0</td>\n",
       "      <td>21.0</td>\n",
       "      <td>2.0</td>\n",
       "      <td>51.0</td>\n",
       "    </tr>\n",
       "    <tr>\n",
       "      <th>2014.15</th>\n",
       "      <td>26.0</td>\n",
       "      <td>12.0</td>\n",
       "      <td>16.0</td>\n",
       "      <td>NaN</td>\n",
       "      <td>24.0</td>\n",
       "    </tr>\n",
       "    <tr>\n",
       "      <th>2015.16</th>\n",
       "      <td>12.0</td>\n",
       "      <td>15.0</td>\n",
       "      <td>24.0</td>\n",
       "      <td>NaN</td>\n",
       "      <td>41.0</td>\n",
       "    </tr>\n",
       "    <tr>\n",
       "      <th>2016.17</th>\n",
       "      <td>24.0</td>\n",
       "      <td>9.0</td>\n",
       "      <td>17.0</td>\n",
       "      <td>1.0</td>\n",
       "      <td>24.0</td>\n",
       "    </tr>\n",
       "    <tr>\n",
       "      <th>2017.18</th>\n",
       "      <td>18.0</td>\n",
       "      <td>9.0</td>\n",
       "      <td>13.0</td>\n",
       "      <td>2.0</td>\n",
       "      <td>16.0</td>\n",
       "    </tr>\n",
       "    <tr>\n",
       "      <th>2018.19</th>\n",
       "      <td>23.0</td>\n",
       "      <td>12.0</td>\n",
       "      <td>29.0</td>\n",
       "      <td>2.0</td>\n",
       "      <td>28.0</td>\n",
       "    </tr>\n",
       "  </tbody>\n",
       "</table>\n",
       "</div>"
      ],
      "text/plain": [
       "Status   CUNY  Faculty  Public  Staff  Student\n",
       "Year                                          \n",
       "2007.08   1.0     16.0     4.0    1.0     24.0\n",
       "2008.09   1.0     10.0     1.0    1.0     20.0\n",
       "2009.10   4.0      5.0     9.0    3.0     26.0\n",
       "2010.11  16.0     11.0    22.0    NaN     30.0\n",
       "2011.12  24.0      8.0    31.0    NaN     30.0\n",
       "2012.13  24.0     12.0    20.0    6.0     47.0\n",
       "2013.14  34.0     12.0    21.0    2.0     51.0\n",
       "2014.15  26.0     12.0    16.0    NaN     24.0\n",
       "2015.16  12.0     15.0    24.0    NaN     41.0\n",
       "2016.17  24.0      9.0    17.0    1.0     24.0\n",
       "2017.18  18.0      9.0    13.0    2.0     16.0\n",
       "2018.19  23.0     12.0    29.0    2.0     28.0"
      ]
     },
     "execution_count": 10,
     "metadata": {},
     "output_type": "execute_result"
    }
   ],
   "source": [
    "#In order to plot as a stacked bar chart, need to do this instead\n",
    "questions_status2=questions[['Year','Question','Status']].groupby(by=['Year','Status']).size().unstack()\n",
    "questions_status2"
   ]
  },
  {
   "cell_type": "code",
   "execution_count": 11,
   "metadata": {},
   "outputs": [
    {
     "data": {
      "image/png": "[encoded data removed]",
      "text/plain": [
       "<Figure size 432x288 with 1 Axes>"
      ]
     },
     "metadata": {
      "needs_background": "light"
     },
     "output_type": "display_data"
    }
   ],
   "source": [
    "questions_status2[['Student','Faculty','Staff','CUNY','Public']].plot.bar(stacked=True, rot=45, title=\"GIS Questions\")\n",
    "plt.savefig('questions_status.png',bbox_inches='tight')"
   ]
  },
  {
   "cell_type": "code",
   "execution_count": 12,
   "metadata": {},
   "outputs": [
    {
     "data": {
      "text/html": [
       "<div>\n",
       "<style scoped>\n",
       "    .dataframe tbody tr th:only-of-type {\n",
       "        vertical-align: middle;\n",
       "    }\n",
       "\n",
       "    .dataframe tbody tr th {\n",
       "        vertical-align: top;\n",
       "    }\n",
       "\n",
       "    .dataframe thead th {\n",
       "        text-align: right;\n",
       "    }\n",
       "</style>\n",
       "<table border=\"1\" class=\"dataframe\">\n",
       "  <thead>\n",
       "    <tr style=\"text-align: right;\">\n",
       "      <th></th>\n",
       "      <th>Year</th>\n",
       "      <th>Semester</th>\n",
       "      <th>Date</th>\n",
       "      <th>Status</th>\n",
       "      <th>Question</th>\n",
       "    </tr>\n",
       "  </thead>\n",
       "  <tbody>\n",
       "    <tr>\n",
       "      <th>0</th>\n",
       "      <td>2007.08</td>\n",
       "      <td>FA</td>\n",
       "      <td>2007-10-02</td>\n",
       "      <td>Student</td>\n",
       "      <td>Location organic food stores lower Manhattan</td>\n",
       "    </tr>\n",
       "    <tr>\n",
       "      <th>1</th>\n",
       "      <td>2007.08</td>\n",
       "      <td>FA</td>\n",
       "      <td>2007-10-15</td>\n",
       "      <td>Faculty</td>\n",
       "      <td>Digital basemaps for various continents</td>\n",
       "    </tr>\n",
       "    <tr>\n",
       "      <th>2</th>\n",
       "      <td>2007.08</td>\n",
       "      <td>FA</td>\n",
       "      <td>2007-10-16</td>\n",
       "      <td>Faculty</td>\n",
       "      <td>Shapefiles for historical US counties</td>\n",
       "    </tr>\n",
       "    <tr>\n",
       "      <th>3</th>\n",
       "      <td>2007.08</td>\n",
       "      <td>FA</td>\n",
       "      <td>2007-10-22</td>\n",
       "      <td>Student</td>\n",
       "      <td>Help finding GIS computer resources</td>\n",
       "    </tr>\n",
       "    <tr>\n",
       "      <th>4</th>\n",
       "      <td>2007.08</td>\n",
       "      <td>FA</td>\n",
       "      <td>2007-10-23</td>\n",
       "      <td>Student</td>\n",
       "      <td>Suggestion for an ArcGIS book</td>\n",
       "    </tr>\n",
       "  </tbody>\n",
       "</table>\n",
       "</div>"
      ],
      "text/plain": [
       "      Year Semester       Date   Status  \\\n",
       "0  2007.08       FA 2007-10-02  Student   \n",
       "1  2007.08       FA 2007-10-15  Faculty   \n",
       "2  2007.08       FA 2007-10-16  Faculty   \n",
       "3  2007.08       FA 2007-10-22  Student   \n",
       "4  2007.08       FA 2007-10-23  Student   \n",
       "\n",
       "                                       Question  \n",
       "0  Location organic food stores lower Manhattan  \n",
       "1       Digital basemaps for various continents  \n",
       "2         Shapefiles for historical US counties  \n",
       "3           Help finding GIS computer resources  \n",
       "4                 Suggestion for an ArcGIS book  "
      ]
     },
     "execution_count": 12,
     "metadata": {},
     "output_type": "execute_result"
    }
   ],
   "source": [
    "questions.Semester=questions.Semester.str[-2:]\n",
    "questions.head()"
   ]
  },
  {
   "cell_type": "code",
   "execution_count": 13,
   "metadata": {},
   "outputs": [
    {
     "data": {
      "text/html": [
       "<div>\n",
       "<style scoped>\n",
       "    .dataframe tbody tr th:only-of-type {\n",
       "        vertical-align: middle;\n",
       "    }\n",
       "\n",
       "    .dataframe tbody tr th {\n",
       "        vertical-align: top;\n",
       "    }\n",
       "\n",
       "    .dataframe thead th {\n",
       "        text-align: right;\n",
       "    }\n",
       "</style>\n",
       "<table border=\"1\" class=\"dataframe\">\n",
       "  <thead>\n",
       "    <tr style=\"text-align: right;\">\n",
       "      <th>Semester</th>\n",
       "      <th>Fall</th>\n",
       "      <th>Spring</th>\n",
       "      <th>Summer</th>\n",
       "    </tr>\n",
       "    <tr>\n",
       "      <th>Year</th>\n",
       "      <th></th>\n",
       "      <th></th>\n",
       "      <th></th>\n",
       "    </tr>\n",
       "  </thead>\n",
       "  <tbody>\n",
       "    <tr>\n",
       "      <th>2007.08</th>\n",
       "      <td>25</td>\n",
       "      <td>15</td>\n",
       "      <td>6</td>\n",
       "    </tr>\n",
       "    <tr>\n",
       "      <th>2008.09</th>\n",
       "      <td>11</td>\n",
       "      <td>14</td>\n",
       "      <td>8</td>\n",
       "    </tr>\n",
       "    <tr>\n",
       "      <th>2009.10</th>\n",
       "      <td>15</td>\n",
       "      <td>25</td>\n",
       "      <td>7</td>\n",
       "    </tr>\n",
       "    <tr>\n",
       "      <th>2010.11</th>\n",
       "      <td>17</td>\n",
       "      <td>45</td>\n",
       "      <td>17</td>\n",
       "    </tr>\n",
       "    <tr>\n",
       "      <th>2011.12</th>\n",
       "      <td>38</td>\n",
       "      <td>38</td>\n",
       "      <td>17</td>\n",
       "    </tr>\n",
       "    <tr>\n",
       "      <th>2012.13</th>\n",
       "      <td>35</td>\n",
       "      <td>55</td>\n",
       "      <td>19</td>\n",
       "    </tr>\n",
       "    <tr>\n",
       "      <th>2013.14</th>\n",
       "      <td>53</td>\n",
       "      <td>43</td>\n",
       "      <td>24</td>\n",
       "    </tr>\n",
       "    <tr>\n",
       "      <th>2014.15</th>\n",
       "      <td>28</td>\n",
       "      <td>39</td>\n",
       "      <td>11</td>\n",
       "    </tr>\n",
       "    <tr>\n",
       "      <th>2015.16</th>\n",
       "      <td>34</td>\n",
       "      <td>45</td>\n",
       "      <td>13</td>\n",
       "    </tr>\n",
       "    <tr>\n",
       "      <th>2016.17</th>\n",
       "      <td>27</td>\n",
       "      <td>35</td>\n",
       "      <td>13</td>\n",
       "    </tr>\n",
       "    <tr>\n",
       "      <th>2017.18</th>\n",
       "      <td>30</td>\n",
       "      <td>25</td>\n",
       "      <td>3</td>\n",
       "    </tr>\n",
       "    <tr>\n",
       "      <th>2018.19</th>\n",
       "      <td>36</td>\n",
       "      <td>39</td>\n",
       "      <td>19</td>\n",
       "    </tr>\n",
       "  </tbody>\n",
       "</table>\n",
       "</div>"
      ],
      "text/plain": [
       "Semester  Fall  Spring  Summer\n",
       "Year                          \n",
       "2007.08     25      15       6\n",
       "2008.09     11      14       8\n",
       "2009.10     15      25       7\n",
       "2010.11     17      45      17\n",
       "2011.12     38      38      17\n",
       "2012.13     35      55      19\n",
       "2013.14     53      43      24\n",
       "2014.15     28      39      11\n",
       "2015.16     34      45      13\n",
       "2016.17     27      35      13\n",
       "2017.18     30      25       3\n",
       "2018.19     36      39      19"
      ]
     },
     "execution_count": 13,
     "metadata": {},
     "output_type": "execute_result"
    }
   ],
   "source": [
    "questions_sem=questions[['Year','Question','Semester']].groupby(by=['Year','Semester']).size().unstack()\n",
    "questions_sem.rename(columns = {'FA':'Fall','SP':'Spring','SU':'Summer'},inplace=True)\n",
    "questions_sem"
   ]
  },
  {
   "cell_type": "code",
   "execution_count": 14,
   "metadata": {},
   "outputs": [
    {
     "data": {
      "text/plain": [
       "<matplotlib.axes._subplots.AxesSubplot at 0x19102b59c50>"
      ]
     },
     "execution_count": 14,
     "metadata": {},
     "output_type": "execute_result"
    },
    {
     "data": {
      "image/png": "[encoded data removed]",
      "text/plain": [
       "<Figure size 432x288 with 1 Axes>"
      ]
     },
     "metadata": {
      "needs_background": "light"
     },
     "output_type": "display_data"
    }
   ],
   "source": [
    "questions_sem.plot.bar(stacked=True, rot=45, title=\"GIS Questions\")"
   ]
  },
  {
   "cell_type": "markdown",
   "metadata": {},
   "source": [
    "## Consultations\n",
    "One-on-one in-person research consultations"
   ]
  },
  {
   "cell_type": "code",
   "execution_count": 15,
   "metadata": {},
   "outputs": [
    {
     "data": {
      "text/html": [
       "<div>\n",
       "<style scoped>\n",
       "    .dataframe tbody tr th:only-of-type {\n",
       "        vertical-align: middle;\n",
       "    }\n",
       "\n",
       "    .dataframe tbody tr th {\n",
       "        vertical-align: top;\n",
       "    }\n",
       "\n",
       "    .dataframe thead th {\n",
       "        text-align: right;\n",
       "    }\n",
       "</style>\n",
       "<table border=\"1\" class=\"dataframe\">\n",
       "  <thead>\n",
       "    <tr style=\"text-align: right;\">\n",
       "      <th></th>\n",
       "      <th>Year</th>\n",
       "      <th>Semester</th>\n",
       "      <th>Date</th>\n",
       "      <th>Status</th>\n",
       "      <th>Time (minutes)</th>\n",
       "      <th>Question</th>\n",
       "    </tr>\n",
       "  </thead>\n",
       "  <tbody>\n",
       "    <tr>\n",
       "      <th>0</th>\n",
       "      <td>2007.08</td>\n",
       "      <td>2007FA</td>\n",
       "      <td>2007-10-16</td>\n",
       "      <td>Student</td>\n",
       "      <td>75</td>\n",
       "      <td>Help with class assignment, geoprocessing</td>\n",
       "    </tr>\n",
       "    <tr>\n",
       "      <th>1</th>\n",
       "      <td>2007.08</td>\n",
       "      <td>2007FA</td>\n",
       "      <td>2007-10-22</td>\n",
       "      <td>Student</td>\n",
       "      <td>60</td>\n",
       "      <td>Help with class assignment, geoprocessing</td>\n",
       "    </tr>\n",
       "    <tr>\n",
       "      <th>2</th>\n",
       "      <td>2007.08</td>\n",
       "      <td>2007FA</td>\n",
       "      <td>2007-10-23</td>\n",
       "      <td>Student</td>\n",
       "      <td>75</td>\n",
       "      <td>Help with class assignment, geoprocessing</td>\n",
       "    </tr>\n",
       "    <tr>\n",
       "      <th>3</th>\n",
       "      <td>2007.08</td>\n",
       "      <td>2007FA</td>\n",
       "      <td>2007-11-01</td>\n",
       "      <td>Faculty</td>\n",
       "      <td>20</td>\n",
       "      <td>Teaching Direct Marketing staff GIS</td>\n",
       "    </tr>\n",
       "    <tr>\n",
       "      <th>4</th>\n",
       "      <td>2007.08</td>\n",
       "      <td>2007FA</td>\n",
       "      <td>2007-11-02</td>\n",
       "      <td>Faculty</td>\n",
       "      <td>30</td>\n",
       "      <td>Data sources, table joins, measuring distance</td>\n",
       "    </tr>\n",
       "  </tbody>\n",
       "</table>\n",
       "</div>"
      ],
      "text/plain": [
       "      Year Semester       Date   Status  Time (minutes)  \\\n",
       "0  2007.08   2007FA 2007-10-16  Student              75   \n",
       "1  2007.08   2007FA 2007-10-22  Student              60   \n",
       "2  2007.08   2007FA 2007-10-23  Student              75   \n",
       "3  2007.08   2007FA 2007-11-01  Faculty              20   \n",
       "4  2007.08   2007FA 2007-11-02  Faculty              30   \n",
       "\n",
       "                                         Question  \n",
       "0       Help with class assignment, geoprocessing  \n",
       "1       Help with class assignment, geoprocessing  \n",
       "2       Help with class assignment, geoprocessing  \n",
       "3             Teaching Direct Marketing staff GIS  \n",
       "4  Data sources, table joins, measuring distance   "
      ]
     },
     "execution_count": 15,
     "metadata": {},
     "output_type": "execute_result"
    }
   ],
   "source": [
    "consult = pd.read_excel('RefLog_Example.xlsx', sheet_name='Consultations')\n",
    "consult.head()"
   ]
  },
  {
   "cell_type": "code",
   "execution_count": 16,
   "metadata": {},
   "outputs": [
    {
     "data": {
      "text/html": [
       "<div>\n",
       "<style scoped>\n",
       "    .dataframe tbody tr th:only-of-type {\n",
       "        vertical-align: middle;\n",
       "    }\n",
       "\n",
       "    .dataframe tbody tr th {\n",
       "        vertical-align: top;\n",
       "    }\n",
       "\n",
       "    .dataframe thead th {\n",
       "        text-align: right;\n",
       "    }\n",
       "</style>\n",
       "<table border=\"1\" class=\"dataframe\">\n",
       "  <thead>\n",
       "    <tr style=\"text-align: right;\">\n",
       "      <th></th>\n",
       "      <th>Questions</th>\n",
       "    </tr>\n",
       "    <tr>\n",
       "      <th>Year</th>\n",
       "      <th></th>\n",
       "    </tr>\n",
       "  </thead>\n",
       "  <tbody>\n",
       "    <tr>\n",
       "      <th>2007.08</th>\n",
       "      <td>16</td>\n",
       "    </tr>\n",
       "    <tr>\n",
       "      <th>2008.09</th>\n",
       "      <td>14</td>\n",
       "    </tr>\n",
       "    <tr>\n",
       "      <th>2009.10</th>\n",
       "      <td>15</td>\n",
       "    </tr>\n",
       "    <tr>\n",
       "      <th>2010.11</th>\n",
       "      <td>32</td>\n",
       "    </tr>\n",
       "    <tr>\n",
       "      <th>2011.12</th>\n",
       "      <td>27</td>\n",
       "    </tr>\n",
       "    <tr>\n",
       "      <th>2012.13</th>\n",
       "      <td>29</td>\n",
       "    </tr>\n",
       "    <tr>\n",
       "      <th>2013.14</th>\n",
       "      <td>58</td>\n",
       "    </tr>\n",
       "    <tr>\n",
       "      <th>2014.15</th>\n",
       "      <td>52</td>\n",
       "    </tr>\n",
       "    <tr>\n",
       "      <th>2015.16</th>\n",
       "      <td>63</td>\n",
       "    </tr>\n",
       "    <tr>\n",
       "      <th>2016.17</th>\n",
       "      <td>62</td>\n",
       "    </tr>\n",
       "    <tr>\n",
       "      <th>2017.18</th>\n",
       "      <td>34</td>\n",
       "    </tr>\n",
       "    <tr>\n",
       "      <th>2018.19</th>\n",
       "      <td>75</td>\n",
       "    </tr>\n",
       "  </tbody>\n",
       "</table>\n",
       "</div>"
      ],
      "text/plain": [
       "         Questions\n",
       "Year              \n",
       "2007.08         16\n",
       "2008.09         14\n",
       "2009.10         15\n",
       "2010.11         32\n",
       "2011.12         27\n",
       "2012.13         29\n",
       "2013.14         58\n",
       "2014.15         52\n",
       "2015.16         63\n",
       "2016.17         62\n",
       "2017.18         34\n",
       "2018.19         75"
      ]
     },
     "execution_count": 16,
     "metadata": {},
     "output_type": "execute_result"
    }
   ],
   "source": [
    "consult_yr=consult[['Year','Question']].groupby(by='Year').size().reset_index(name='Questions').set_index('Year')\n",
    "consult_yr"
   ]
  },
  {
   "cell_type": "code",
   "execution_count": 17,
   "metadata": {},
   "outputs": [
    {
     "data": {
      "text/html": [
       "<div>\n",
       "<style scoped>\n",
       "    .dataframe tbody tr th:only-of-type {\n",
       "        vertical-align: middle;\n",
       "    }\n",
       "\n",
       "    .dataframe tbody tr th {\n",
       "        vertical-align: top;\n",
       "    }\n",
       "\n",
       "    .dataframe thead th {\n",
       "        text-align: right;\n",
       "    }\n",
       "</style>\n",
       "<table border=\"1\" class=\"dataframe\">\n",
       "  <thead>\n",
       "    <tr style=\"text-align: right;\">\n",
       "      <th>Status</th>\n",
       "      <th>CUNY</th>\n",
       "      <th>Faculty</th>\n",
       "      <th>Public</th>\n",
       "      <th>Staff</th>\n",
       "      <th>Student</th>\n",
       "    </tr>\n",
       "    <tr>\n",
       "      <th>Year</th>\n",
       "      <th></th>\n",
       "      <th></th>\n",
       "      <th></th>\n",
       "      <th></th>\n",
       "      <th></th>\n",
       "    </tr>\n",
       "  </thead>\n",
       "  <tbody>\n",
       "    <tr>\n",
       "      <th>2007.08</th>\n",
       "      <td>NaN</td>\n",
       "      <td>6.0</td>\n",
       "      <td>1.0</td>\n",
       "      <td>NaN</td>\n",
       "      <td>9.0</td>\n",
       "    </tr>\n",
       "    <tr>\n",
       "      <th>2008.09</th>\n",
       "      <td>1.0</td>\n",
       "      <td>6.0</td>\n",
       "      <td>NaN</td>\n",
       "      <td>1.0</td>\n",
       "      <td>6.0</td>\n",
       "    </tr>\n",
       "    <tr>\n",
       "      <th>2009.10</th>\n",
       "      <td>1.0</td>\n",
       "      <td>NaN</td>\n",
       "      <td>NaN</td>\n",
       "      <td>NaN</td>\n",
       "      <td>14.0</td>\n",
       "    </tr>\n",
       "    <tr>\n",
       "      <th>2010.11</th>\n",
       "      <td>6.0</td>\n",
       "      <td>4.0</td>\n",
       "      <td>NaN</td>\n",
       "      <td>NaN</td>\n",
       "      <td>22.0</td>\n",
       "    </tr>\n",
       "    <tr>\n",
       "      <th>2011.12</th>\n",
       "      <td>2.0</td>\n",
       "      <td>3.0</td>\n",
       "      <td>1.0</td>\n",
       "      <td>NaN</td>\n",
       "      <td>21.0</td>\n",
       "    </tr>\n",
       "    <tr>\n",
       "      <th>2012.13</th>\n",
       "      <td>3.0</td>\n",
       "      <td>7.0</td>\n",
       "      <td>NaN</td>\n",
       "      <td>2.0</td>\n",
       "      <td>17.0</td>\n",
       "    </tr>\n",
       "    <tr>\n",
       "      <th>2013.14</th>\n",
       "      <td>10.0</td>\n",
       "      <td>10.0</td>\n",
       "      <td>2.0</td>\n",
       "      <td>2.0</td>\n",
       "      <td>34.0</td>\n",
       "    </tr>\n",
       "    <tr>\n",
       "      <th>2014.15</th>\n",
       "      <td>12.0</td>\n",
       "      <td>19.0</td>\n",
       "      <td>1.0</td>\n",
       "      <td>NaN</td>\n",
       "      <td>20.0</td>\n",
       "    </tr>\n",
       "    <tr>\n",
       "      <th>2015.16</th>\n",
       "      <td>18.0</td>\n",
       "      <td>9.0</td>\n",
       "      <td>4.0</td>\n",
       "      <td>NaN</td>\n",
       "      <td>32.0</td>\n",
       "    </tr>\n",
       "    <tr>\n",
       "      <th>2016.17</th>\n",
       "      <td>39.0</td>\n",
       "      <td>3.0</td>\n",
       "      <td>2.0</td>\n",
       "      <td>3.0</td>\n",
       "      <td>15.0</td>\n",
       "    </tr>\n",
       "    <tr>\n",
       "      <th>2017.18</th>\n",
       "      <td>7.0</td>\n",
       "      <td>11.0</td>\n",
       "      <td>5.0</td>\n",
       "      <td>NaN</td>\n",
       "      <td>11.0</td>\n",
       "    </tr>\n",
       "    <tr>\n",
       "      <th>2018.19</th>\n",
       "      <td>32.0</td>\n",
       "      <td>14.0</td>\n",
       "      <td>5.0</td>\n",
       "      <td>1.0</td>\n",
       "      <td>23.0</td>\n",
       "    </tr>\n",
       "  </tbody>\n",
       "</table>\n",
       "</div>"
      ],
      "text/plain": [
       "Status   CUNY  Faculty  Public  Staff  Student\n",
       "Year                                          \n",
       "2007.08   NaN      6.0     1.0    NaN      9.0\n",
       "2008.09   1.0      6.0     NaN    1.0      6.0\n",
       "2009.10   1.0      NaN     NaN    NaN     14.0\n",
       "2010.11   6.0      4.0     NaN    NaN     22.0\n",
       "2011.12   2.0      3.0     1.0    NaN     21.0\n",
       "2012.13   3.0      7.0     NaN    2.0     17.0\n",
       "2013.14  10.0     10.0     2.0    2.0     34.0\n",
       "2014.15  12.0     19.0     1.0    NaN     20.0\n",
       "2015.16  18.0      9.0     4.0    NaN     32.0\n",
       "2016.17  39.0      3.0     2.0    3.0     15.0\n",
       "2017.18   7.0     11.0     5.0    NaN     11.0\n",
       "2018.19  32.0     14.0     5.0    1.0     23.0"
      ]
     },
     "execution_count": 17,
     "metadata": {},
     "output_type": "execute_result"
    }
   ],
   "source": [
    "consult_status=consult[['Year','Question','Status']].groupby(by=['Year','Status']).size().unstack()\n",
    "consult_status"
   ]
  },
  {
   "cell_type": "code",
   "execution_count": 18,
   "metadata": {},
   "outputs": [
    {
     "data": {
      "image/png": "[encoded data removed]",
      "text/plain": [
       "<Figure size 432x288 with 1 Axes>"
      ]
     },
     "metadata": {
      "needs_background": "light"
     },
     "output_type": "display_data"
    }
   ],
   "source": [
    "consult_status[['Student','Faculty','Staff','CUNY','Public']].plot.bar(stacked=True, rot=45, title=\"GIS Consultations\")\n",
    "plt.savefig('consults_status.png',bbox_inches='tight')"
   ]
  },
  {
   "cell_type": "code",
   "execution_count": 19,
   "metadata": {},
   "outputs": [
    {
     "data": {
      "text/html": [
       "<div>\n",
       "<style scoped>\n",
       "    .dataframe tbody tr th:only-of-type {\n",
       "        vertical-align: middle;\n",
       "    }\n",
       "\n",
       "    .dataframe tbody tr th {\n",
       "        vertical-align: top;\n",
       "    }\n",
       "\n",
       "    .dataframe thead th {\n",
       "        text-align: right;\n",
       "    }\n",
       "</style>\n",
       "<table border=\"1\" class=\"dataframe\">\n",
       "  <thead>\n",
       "    <tr style=\"text-align: right;\">\n",
       "      <th>Semester</th>\n",
       "      <th>Fall</th>\n",
       "      <th>Spring</th>\n",
       "      <th>Summer</th>\n",
       "    </tr>\n",
       "    <tr>\n",
       "      <th>Year</th>\n",
       "      <th></th>\n",
       "      <th></th>\n",
       "      <th></th>\n",
       "    </tr>\n",
       "  </thead>\n",
       "  <tbody>\n",
       "    <tr>\n",
       "      <th>2007.08</th>\n",
       "      <td>10</td>\n",
       "      <td>3</td>\n",
       "      <td>3</td>\n",
       "    </tr>\n",
       "    <tr>\n",
       "      <th>2008.09</th>\n",
       "      <td>6</td>\n",
       "      <td>6</td>\n",
       "      <td>2</td>\n",
       "    </tr>\n",
       "    <tr>\n",
       "      <th>2009.10</th>\n",
       "      <td>7</td>\n",
       "      <td>6</td>\n",
       "      <td>2</td>\n",
       "    </tr>\n",
       "    <tr>\n",
       "      <th>2010.11</th>\n",
       "      <td>4</td>\n",
       "      <td>23</td>\n",
       "      <td>5</td>\n",
       "    </tr>\n",
       "    <tr>\n",
       "      <th>2011.12</th>\n",
       "      <td>10</td>\n",
       "      <td>15</td>\n",
       "      <td>2</td>\n",
       "    </tr>\n",
       "    <tr>\n",
       "      <th>2012.13</th>\n",
       "      <td>10</td>\n",
       "      <td>13</td>\n",
       "      <td>6</td>\n",
       "    </tr>\n",
       "    <tr>\n",
       "      <th>2013.14</th>\n",
       "      <td>31</td>\n",
       "      <td>19</td>\n",
       "      <td>8</td>\n",
       "    </tr>\n",
       "    <tr>\n",
       "      <th>2014.15</th>\n",
       "      <td>11</td>\n",
       "      <td>34</td>\n",
       "      <td>7</td>\n",
       "    </tr>\n",
       "    <tr>\n",
       "      <th>2015.16</th>\n",
       "      <td>26</td>\n",
       "      <td>29</td>\n",
       "      <td>8</td>\n",
       "    </tr>\n",
       "    <tr>\n",
       "      <th>2016.17</th>\n",
       "      <td>19</td>\n",
       "      <td>39</td>\n",
       "      <td>4</td>\n",
       "    </tr>\n",
       "    <tr>\n",
       "      <th>2017.18</th>\n",
       "      <td>18</td>\n",
       "      <td>15</td>\n",
       "      <td>1</td>\n",
       "    </tr>\n",
       "    <tr>\n",
       "      <th>2018.19</th>\n",
       "      <td>23</td>\n",
       "      <td>40</td>\n",
       "      <td>12</td>\n",
       "    </tr>\n",
       "  </tbody>\n",
       "</table>\n",
       "</div>"
      ],
      "text/plain": [
       "Semester  Fall  Spring  Summer\n",
       "Year                          \n",
       "2007.08     10       3       3\n",
       "2008.09      6       6       2\n",
       "2009.10      7       6       2\n",
       "2010.11      4      23       5\n",
       "2011.12     10      15       2\n",
       "2012.13     10      13       6\n",
       "2013.14     31      19       8\n",
       "2014.15     11      34       7\n",
       "2015.16     26      29       8\n",
       "2016.17     19      39       4\n",
       "2017.18     18      15       1\n",
       "2018.19     23      40      12"
      ]
     },
     "execution_count": 19,
     "metadata": {},
     "output_type": "execute_result"
    }
   ],
   "source": [
    "consult.Semester=consult.Semester.str[-2:]\n",
    "consult_sem=consult[['Year','Question','Semester']].groupby(by=['Year','Semester']).size().unstack()\n",
    "consult_sem.rename(columns = {'FA':'Fall','SP':'Spring','SU':'Summer'},inplace=True)\n",
    "consult_sem"
   ]
  },
  {
   "cell_type": "code",
   "execution_count": 20,
   "metadata": {},
   "outputs": [
    {
     "data": {
      "text/plain": [
       "<matplotlib.axes._subplots.AxesSubplot at 0x19102df11d0>"
      ]
     },
     "execution_count": 20,
     "metadata": {},
     "output_type": "execute_result"
    },
    {
     "data": {
      "image/png": "[encoded data removed]",
      "text/plain": [
       "<Figure size 432x288 with 1 Axes>"
      ]
     },
     "metadata": {
      "needs_background": "light"
     },
     "output_type": "display_data"
    }
   ],
   "source": [
    "consult_sem.plot.bar(stacked=True, rot=45, title=\"GIS Consultations\")"
   ]
  },
  {
   "cell_type": "markdown",
   "metadata": {},
   "source": [
    "## Teaching - Course Visits"
   ]
  },
  {
   "cell_type": "code",
   "execution_count": 21,
   "metadata": {},
   "outputs": [
    {
     "data": {
      "text/html": [
       "<div>\n",
       "<style scoped>\n",
       "    .dataframe tbody tr th:only-of-type {\n",
       "        vertical-align: middle;\n",
       "    }\n",
       "\n",
       "    .dataframe tbody tr th {\n",
       "        vertical-align: top;\n",
       "    }\n",
       "\n",
       "    .dataframe thead th {\n",
       "        text-align: right;\n",
       "    }\n",
       "</style>\n",
       "<table border=\"1\" class=\"dataframe\">\n",
       "  <thead>\n",
       "    <tr style=\"text-align: right;\">\n",
       "      <th></th>\n",
       "      <th>Year</th>\n",
       "      <th>Semester</th>\n",
       "      <th>Date</th>\n",
       "      <th>Class</th>\n",
       "      <th>Time (minutes)</th>\n",
       "      <th>Attendance</th>\n",
       "      <th>Material</th>\n",
       "    </tr>\n",
       "  </thead>\n",
       "  <tbody>\n",
       "    <tr>\n",
       "      <th>0</th>\n",
       "      <td>2007.08</td>\n",
       "      <td>2007FA</td>\n",
       "      <td>2007-09-19</td>\n",
       "      <td>PAF 9699</td>\n",
       "      <td>15</td>\n",
       "      <td>25</td>\n",
       "      <td>Introduction to Library GIS resources</td>\n",
       "    </tr>\n",
       "    <tr>\n",
       "      <th>1</th>\n",
       "      <td>2007.08</td>\n",
       "      <td>2007FA</td>\n",
       "      <td>2007-11-07</td>\n",
       "      <td>PAF 9699</td>\n",
       "      <td>30</td>\n",
       "      <td>25</td>\n",
       "      <td>Introduction to Geodatabases</td>\n",
       "    </tr>\n",
       "    <tr>\n",
       "      <th>2</th>\n",
       "      <td>2008.09</td>\n",
       "      <td>2008FA</td>\n",
       "      <td>2008-09-16</td>\n",
       "      <td>LIB 3040</td>\n",
       "      <td>60</td>\n",
       "      <td>25</td>\n",
       "      <td>Electoral College, political geography</td>\n",
       "    </tr>\n",
       "    <tr>\n",
       "      <th>3</th>\n",
       "      <td>2008.09</td>\n",
       "      <td>2008FA</td>\n",
       "      <td>2008-10-21</td>\n",
       "      <td>ENG 3200</td>\n",
       "      <td>90</td>\n",
       "      <td>20</td>\n",
       "      <td>Introduction to US Census data</td>\n",
       "    </tr>\n",
       "    <tr>\n",
       "      <th>4</th>\n",
       "      <td>2009.10</td>\n",
       "      <td>2009FA</td>\n",
       "      <td>2008-09-01</td>\n",
       "      <td>LIB 3010</td>\n",
       "      <td>2175</td>\n",
       "      <td>15</td>\n",
       "      <td>Topics in Information Studies - Geographic Inf...</td>\n",
       "    </tr>\n",
       "  </tbody>\n",
       "</table>\n",
       "</div>"
      ],
      "text/plain": [
       "      Year Semester       Date     Class  Time (minutes)  Attendance  \\\n",
       "0  2007.08   2007FA 2007-09-19  PAF 9699              15          25   \n",
       "1  2007.08   2007FA 2007-11-07  PAF 9699              30          25   \n",
       "2  2008.09   2008FA 2008-09-16  LIB 3040              60          25   \n",
       "3  2008.09   2008FA 2008-10-21  ENG 3200              90          20   \n",
       "4  2009.10   2009FA 2008-09-01  LIB 3010            2175          15   \n",
       "\n",
       "                                            Material  \n",
       "0              Introduction to Library GIS resources  \n",
       "1                       Introduction to Geodatabases  \n",
       "2             Electoral College, political geography  \n",
       "3                     Introduction to US Census data  \n",
       "4  Topics in Information Studies - Geographic Inf...  "
      ]
     },
     "execution_count": 21,
     "metadata": {},
     "output_type": "execute_result"
    }
   ],
   "source": [
    "teach = pd.read_excel('RefLog_Example.xlsx', sheet_name='Teaching')\n",
    "teach.head()"
   ]
  },
  {
   "cell_type": "code",
   "execution_count": 22,
   "metadata": {},
   "outputs": [
    {
     "data": {
      "text/plain": [
       "(106, 7)"
      ]
     },
     "execution_count": 22,
     "metadata": {},
     "output_type": "execute_result"
    }
   ],
   "source": [
    "teach.shape"
   ]
  },
  {
   "cell_type": "code",
   "execution_count": 23,
   "metadata": {},
   "outputs": [
    {
     "data": {
      "text/plain": [
       "(69, 7)"
      ]
     },
     "execution_count": 23,
     "metadata": {},
     "output_type": "execute_result"
    }
   ],
   "source": [
    "to_drop=['GIS Practicum','Spatial DB Practicum','LIB3010']\n",
    "classes=teach.query('@to_drop not in Class')\n",
    "classes.shape"
   ]
  },
  {
   "cell_type": "code",
   "execution_count": 24,
   "metadata": {},
   "outputs": [
    {
     "data": {
      "text/html": [
       "<div>\n",
       "<style scoped>\n",
       "    .dataframe tbody tr th:only-of-type {\n",
       "        vertical-align: middle;\n",
       "    }\n",
       "\n",
       "    .dataframe tbody tr th {\n",
       "        vertical-align: top;\n",
       "    }\n",
       "\n",
       "    .dataframe thead th {\n",
       "        text-align: right;\n",
       "    }\n",
       "</style>\n",
       "<table border=\"1\" class=\"dataframe\">\n",
       "  <thead>\n",
       "    <tr style=\"text-align: right;\">\n",
       "      <th></th>\n",
       "      <th>Class</th>\n",
       "      <th>Attendance</th>\n",
       "    </tr>\n",
       "    <tr>\n",
       "      <th>Year</th>\n",
       "      <th></th>\n",
       "      <th></th>\n",
       "    </tr>\n",
       "  </thead>\n",
       "  <tbody>\n",
       "    <tr>\n",
       "      <th>2007.08</th>\n",
       "      <td>2</td>\n",
       "      <td>50</td>\n",
       "    </tr>\n",
       "    <tr>\n",
       "      <th>2008.09</th>\n",
       "      <td>2</td>\n",
       "      <td>45</td>\n",
       "    </tr>\n",
       "    <tr>\n",
       "      <th>2009.10</th>\n",
       "      <td>2</td>\n",
       "      <td>35</td>\n",
       "    </tr>\n",
       "    <tr>\n",
       "      <th>2010.11</th>\n",
       "      <td>6</td>\n",
       "      <td>122</td>\n",
       "    </tr>\n",
       "    <tr>\n",
       "      <th>2011.12</th>\n",
       "      <td>4</td>\n",
       "      <td>71</td>\n",
       "    </tr>\n",
       "    <tr>\n",
       "      <th>2012.13</th>\n",
       "      <td>10</td>\n",
       "      <td>208</td>\n",
       "    </tr>\n",
       "    <tr>\n",
       "      <th>2013.14</th>\n",
       "      <td>12</td>\n",
       "      <td>246</td>\n",
       "    </tr>\n",
       "    <tr>\n",
       "      <th>2014.15</th>\n",
       "      <td>6</td>\n",
       "      <td>125</td>\n",
       "    </tr>\n",
       "    <tr>\n",
       "      <th>2015.16</th>\n",
       "      <td>8</td>\n",
       "      <td>131</td>\n",
       "    </tr>\n",
       "    <tr>\n",
       "      <th>2016.17</th>\n",
       "      <td>9</td>\n",
       "      <td>159</td>\n",
       "    </tr>\n",
       "    <tr>\n",
       "      <th>2017.18</th>\n",
       "      <td>2</td>\n",
       "      <td>40</td>\n",
       "    </tr>\n",
       "    <tr>\n",
       "      <th>2018.19</th>\n",
       "      <td>6</td>\n",
       "      <td>116</td>\n",
       "    </tr>\n",
       "  </tbody>\n",
       "</table>\n",
       "</div>"
      ],
      "text/plain": [
       "         Class  Attendance\n",
       "Year                      \n",
       "2007.08      2          50\n",
       "2008.09      2          45\n",
       "2009.10      2          35\n",
       "2010.11      6         122\n",
       "2011.12      4          71\n",
       "2012.13     10         208\n",
       "2013.14     12         246\n",
       "2014.15      6         125\n",
       "2015.16      8         131\n",
       "2016.17      9         159\n",
       "2017.18      2          40\n",
       "2018.19      6         116"
      ]
     },
     "execution_count": 24,
     "metadata": {},
     "output_type": "execute_result"
    }
   ],
   "source": [
    "classes_yr=classes[['Year','Class','Attendance']].groupby('Year').agg({'Class':'count', 'Attendance':'sum'})\n",
    "classes_yr"
   ]
  },
  {
   "cell_type": "code",
   "execution_count": 25,
   "metadata": {},
   "outputs": [
    {
     "name": "stdout",
     "output_type": "stream",
     "text": [
      "<class 'pandas.core.frame.DataFrame'>\n",
      "Float64Index: 12 entries, 2007.08 to 2018.19\n",
      "Data columns (total 2 columns):\n",
      "Class         12 non-null int64\n",
      "Attendance    12 non-null int64\n",
      "dtypes: int64(2)\n",
      "memory usage: 288.0 bytes\n"
     ]
    }
   ],
   "source": [
    "classes_yr.info()"
   ]
  },
  {
   "cell_type": "code",
   "execution_count": 26,
   "metadata": {},
   "outputs": [],
   "source": [
    "#Possible bug, maybe weird issues with dates on x-axis, so convert to string\n",
    "classes_yr.index=classes_yr.index.astype(str)"
   ]
  },
  {
   "cell_type": "code",
   "execution_count": 27,
   "metadata": {},
   "outputs": [
    {
     "name": "stdout",
     "output_type": "stream",
     "text": [
      "<class 'pandas.core.frame.DataFrame'>\n",
      "Index: 12 entries, 2007.08 to 2018.19\n",
      "Data columns (total 2 columns):\n",
      "Class         12 non-null int64\n",
      "Attendance    12 non-null int64\n",
      "dtypes: int64(2)\n",
      "memory usage: 288.0+ bytes\n"
     ]
    }
   ],
   "source": [
    "classes_yr.info()"
   ]
  },
  {
   "cell_type": "code",
   "execution_count": 28,
   "metadata": {},
   "outputs": [
    {
     "data": {
      "image/png": "[encoded data removed]",
      "text/plain": [
       "<Figure size 432x288 with 2 Axes>"
      ]
     },
     "metadata": {
      "needs_background": "light"
     },
     "output_type": "display_data"
    }
   ],
   "source": [
    "plt.figure()\n",
    "\n",
    "ax = classes_yr['Attendance'].plot(secondary_y=True, marker='o', color='orange')\n",
    "ax = classes_yr['Class'].plot(kind='bar', title='Course Visits', rot=45) \n",
    "ax.set_ylabel('Courses')\n",
    "plt.ylabel('Attendance')\n",
    "\n",
    "plt.savefig('courses.png',bbox_inches='tight')"
   ]
  },
  {
   "cell_type": "markdown",
   "metadata": {},
   "source": [
    "# GIS Practicum Workshops"
   ]
  },
  {
   "cell_type": "code",
   "execution_count": 29,
   "metadata": {},
   "outputs": [
    {
     "data": {
      "text/html": [
       "<div>\n",
       "<style scoped>\n",
       "    .dataframe tbody tr th:only-of-type {\n",
       "        vertical-align: middle;\n",
       "    }\n",
       "\n",
       "    .dataframe tbody tr th {\n",
       "        vertical-align: top;\n",
       "    }\n",
       "\n",
       "    .dataframe thead th {\n",
       "        text-align: right;\n",
       "    }\n",
       "</style>\n",
       "<table border=\"1\" class=\"dataframe\">\n",
       "  <thead>\n",
       "    <tr style=\"text-align: right;\">\n",
       "      <th></th>\n",
       "      <th>Year</th>\n",
       "      <th>Semester</th>\n",
       "      <th>Date</th>\n",
       "      <th>Total</th>\n",
       "      <th>Undergrad</th>\n",
       "      <th>Grad Stdt</th>\n",
       "      <th>Faculty</th>\n",
       "      <th>Staff</th>\n",
       "      <th>Other</th>\n",
       "      <th>Baruch</th>\n",
       "      <th>...</th>\n",
       "      <th>Hunter</th>\n",
       "      <th>John Jay</th>\n",
       "      <th>Lehman</th>\n",
       "      <th>Medgar Evers</th>\n",
       "      <th>NYCCT</th>\n",
       "      <th>Queens</th>\n",
       "      <th>Staten Island</th>\n",
       "      <th>York</th>\n",
       "      <th>Other CUNY</th>\n",
       "      <th>Other.1</th>\n",
       "    </tr>\n",
       "  </thead>\n",
       "  <tbody>\n",
       "    <tr>\n",
       "      <th>0</th>\n",
       "      <td>2010.11</td>\n",
       "      <td>SP2011</td>\n",
       "      <td>2011-03-04</td>\n",
       "      <td>14</td>\n",
       "      <td>NaN</td>\n",
       "      <td>11.0</td>\n",
       "      <td>1.0</td>\n",
       "      <td>1.0</td>\n",
       "      <td>1.0</td>\n",
       "      <td>3.0</td>\n",
       "      <td>...</td>\n",
       "      <td>5.0</td>\n",
       "      <td>1.0</td>\n",
       "      <td>NaN</td>\n",
       "      <td>NaN</td>\n",
       "      <td>1.0</td>\n",
       "      <td>NaN</td>\n",
       "      <td>NaN</td>\n",
       "      <td>NaN</td>\n",
       "      <td>NaN</td>\n",
       "      <td>1.0</td>\n",
       "    </tr>\n",
       "    <tr>\n",
       "      <th>1</th>\n",
       "      <td>2010.11</td>\n",
       "      <td>SP2011</td>\n",
       "      <td>2011-04-01</td>\n",
       "      <td>14</td>\n",
       "      <td>NaN</td>\n",
       "      <td>6.0</td>\n",
       "      <td>7.0</td>\n",
       "      <td>NaN</td>\n",
       "      <td>1.0</td>\n",
       "      <td>4.0</td>\n",
       "      <td>...</td>\n",
       "      <td>1.0</td>\n",
       "      <td>2.0</td>\n",
       "      <td>2.0</td>\n",
       "      <td>NaN</td>\n",
       "      <td>NaN</td>\n",
       "      <td>1.0</td>\n",
       "      <td>NaN</td>\n",
       "      <td>NaN</td>\n",
       "      <td>1.0</td>\n",
       "      <td>NaN</td>\n",
       "    </tr>\n",
       "    <tr>\n",
       "      <th>2</th>\n",
       "      <td>2010.11</td>\n",
       "      <td>SP2011</td>\n",
       "      <td>2011-05-06</td>\n",
       "      <td>17</td>\n",
       "      <td>NaN</td>\n",
       "      <td>6.0</td>\n",
       "      <td>6.0</td>\n",
       "      <td>4.0</td>\n",
       "      <td>1.0</td>\n",
       "      <td>4.0</td>\n",
       "      <td>...</td>\n",
       "      <td>5.0</td>\n",
       "      <td>2.0</td>\n",
       "      <td>NaN</td>\n",
       "      <td>NaN</td>\n",
       "      <td>NaN</td>\n",
       "      <td>NaN</td>\n",
       "      <td>1.0</td>\n",
       "      <td>NaN</td>\n",
       "      <td>NaN</td>\n",
       "      <td>2.0</td>\n",
       "    </tr>\n",
       "    <tr>\n",
       "      <th>3</th>\n",
       "      <td>2011.12</td>\n",
       "      <td>FA2011</td>\n",
       "      <td>2011-10-14</td>\n",
       "      <td>15</td>\n",
       "      <td>NaN</td>\n",
       "      <td>11.0</td>\n",
       "      <td>3.0</td>\n",
       "      <td>1.0</td>\n",
       "      <td>NaN</td>\n",
       "      <td>2.0</td>\n",
       "      <td>...</td>\n",
       "      <td>3.0</td>\n",
       "      <td>NaN</td>\n",
       "      <td>3.0</td>\n",
       "      <td>NaN</td>\n",
       "      <td>NaN</td>\n",
       "      <td>2.0</td>\n",
       "      <td>1.0</td>\n",
       "      <td>NaN</td>\n",
       "      <td>NaN</td>\n",
       "      <td>NaN</td>\n",
       "    </tr>\n",
       "    <tr>\n",
       "      <th>4</th>\n",
       "      <td>2011.12</td>\n",
       "      <td>FA2011</td>\n",
       "      <td>2011-11-11</td>\n",
       "      <td>15</td>\n",
       "      <td>NaN</td>\n",
       "      <td>10.0</td>\n",
       "      <td>4.0</td>\n",
       "      <td>1.0</td>\n",
       "      <td>NaN</td>\n",
       "      <td>3.0</td>\n",
       "      <td>...</td>\n",
       "      <td>1.0</td>\n",
       "      <td>NaN</td>\n",
       "      <td>NaN</td>\n",
       "      <td>NaN</td>\n",
       "      <td>NaN</td>\n",
       "      <td>NaN</td>\n",
       "      <td>NaN</td>\n",
       "      <td>NaN</td>\n",
       "      <td>NaN</td>\n",
       "      <td>NaN</td>\n",
       "    </tr>\n",
       "  </tbody>\n",
       "</table>\n",
       "<p>5 rows × 23 columns</p>\n",
       "</div>"
      ],
      "text/plain": [
       "      Year Semester       Date  Total  Undergrad  Grad Stdt  Faculty  Staff  \\\n",
       "0  2010.11   SP2011 2011-03-04     14        NaN       11.0      1.0    1.0   \n",
       "1  2010.11   SP2011 2011-04-01     14        NaN        6.0      7.0    NaN   \n",
       "2  2010.11   SP2011 2011-05-06     17        NaN        6.0      6.0    4.0   \n",
       "3  2011.12   FA2011 2011-10-14     15        NaN       11.0      3.0    1.0   \n",
       "4  2011.12   FA2011 2011-11-11     15        NaN       10.0      4.0    1.0   \n",
       "\n",
       "   Other  Baruch  ...  Hunter  John Jay  Lehman  Medgar Evers  NYCCT  Queens  \\\n",
       "0    1.0     3.0  ...     5.0       1.0     NaN           NaN    1.0     NaN   \n",
       "1    1.0     4.0  ...     1.0       2.0     2.0           NaN    NaN     1.0   \n",
       "2    1.0     4.0  ...     5.0       2.0     NaN           NaN    NaN     NaN   \n",
       "3    NaN     2.0  ...     3.0       NaN     3.0           NaN    NaN     2.0   \n",
       "4    NaN     3.0  ...     1.0       NaN     NaN           NaN    NaN     NaN   \n",
       "\n",
       "   Staten Island  York  Other CUNY  Other.1  \n",
       "0            NaN   NaN         NaN      1.0  \n",
       "1            NaN   NaN         1.0      NaN  \n",
       "2            1.0   NaN         NaN      2.0  \n",
       "3            1.0   NaN         NaN      NaN  \n",
       "4            NaN   NaN         NaN      NaN  \n",
       "\n",
       "[5 rows x 23 columns]"
      ]
     },
     "execution_count": 29,
     "metadata": {},
     "output_type": "execute_result"
    }
   ],
   "source": [
    "gis = pd.read_excel('RefLog_Example.xlsx', sheet_name='GISPracticum')\n",
    "gis.head()"
   ]
  },
  {
   "cell_type": "code",
   "execution_count": 30,
   "metadata": {},
   "outputs": [
    {
     "data": {
      "text/html": [
       "<div>\n",
       "<style scoped>\n",
       "    .dataframe tbody tr th:only-of-type {\n",
       "        vertical-align: middle;\n",
       "    }\n",
       "\n",
       "    .dataframe tbody tr th {\n",
       "        vertical-align: top;\n",
       "    }\n",
       "\n",
       "    .dataframe thead th {\n",
       "        text-align: right;\n",
       "    }\n",
       "</style>\n",
       "<table border=\"1\" class=\"dataframe\">\n",
       "  <thead>\n",
       "    <tr style=\"text-align: right;\">\n",
       "      <th></th>\n",
       "      <th>Sessions</th>\n",
       "      <th>Attendance</th>\n",
       "      <th>Undergrad</th>\n",
       "      <th>Grad Stdt</th>\n",
       "      <th>Faculty</th>\n",
       "      <th>Staff</th>\n",
       "      <th>Other</th>\n",
       "    </tr>\n",
       "    <tr>\n",
       "      <th>Year</th>\n",
       "      <th></th>\n",
       "      <th></th>\n",
       "      <th></th>\n",
       "      <th></th>\n",
       "      <th></th>\n",
       "      <th></th>\n",
       "      <th></th>\n",
       "    </tr>\n",
       "  </thead>\n",
       "  <tbody>\n",
       "    <tr>\n",
       "      <th>2010.11</th>\n",
       "      <td>3</td>\n",
       "      <td>45</td>\n",
       "      <td>0.0</td>\n",
       "      <td>23.0</td>\n",
       "      <td>14.0</td>\n",
       "      <td>5.0</td>\n",
       "      <td>3.0</td>\n",
       "    </tr>\n",
       "    <tr>\n",
       "      <th>2011.12</th>\n",
       "      <td>4</td>\n",
       "      <td>58</td>\n",
       "      <td>0.0</td>\n",
       "      <td>42.0</td>\n",
       "      <td>12.0</td>\n",
       "      <td>3.0</td>\n",
       "      <td>1.0</td>\n",
       "    </tr>\n",
       "    <tr>\n",
       "      <th>2012.13</th>\n",
       "      <td>5</td>\n",
       "      <td>61</td>\n",
       "      <td>7.0</td>\n",
       "      <td>42.0</td>\n",
       "      <td>10.0</td>\n",
       "      <td>1.0</td>\n",
       "      <td>1.0</td>\n",
       "    </tr>\n",
       "    <tr>\n",
       "      <th>2013.14</th>\n",
       "      <td>5</td>\n",
       "      <td>62</td>\n",
       "      <td>4.0</td>\n",
       "      <td>35.0</td>\n",
       "      <td>18.0</td>\n",
       "      <td>5.0</td>\n",
       "      <td>0.0</td>\n",
       "    </tr>\n",
       "    <tr>\n",
       "      <th>2014.15</th>\n",
       "      <td>3</td>\n",
       "      <td>38</td>\n",
       "      <td>5.0</td>\n",
       "      <td>25.0</td>\n",
       "      <td>5.0</td>\n",
       "      <td>3.0</td>\n",
       "      <td>0.0</td>\n",
       "    </tr>\n",
       "    <tr>\n",
       "      <th>2015.16</th>\n",
       "      <td>5</td>\n",
       "      <td>61</td>\n",
       "      <td>9.0</td>\n",
       "      <td>42.0</td>\n",
       "      <td>3.0</td>\n",
       "      <td>4.0</td>\n",
       "      <td>3.0</td>\n",
       "    </tr>\n",
       "    <tr>\n",
       "      <th>2016.17</th>\n",
       "      <td>5</td>\n",
       "      <td>57</td>\n",
       "      <td>4.0</td>\n",
       "      <td>26.0</td>\n",
       "      <td>5.0</td>\n",
       "      <td>3.0</td>\n",
       "      <td>19.0</td>\n",
       "    </tr>\n",
       "    <tr>\n",
       "      <th>2018.19</th>\n",
       "      <td>3</td>\n",
       "      <td>24</td>\n",
       "      <td>3.0</td>\n",
       "      <td>11.0</td>\n",
       "      <td>4.0</td>\n",
       "      <td>6.0</td>\n",
       "      <td>0.0</td>\n",
       "    </tr>\n",
       "  </tbody>\n",
       "</table>\n",
       "</div>"
      ],
      "text/plain": [
       "         Sessions  Attendance  Undergrad  Grad Stdt  Faculty  Staff  Other\n",
       "Year                                                                      \n",
       "2010.11         3          45        0.0       23.0     14.0    5.0    3.0\n",
       "2011.12         4          58        0.0       42.0     12.0    3.0    1.0\n",
       "2012.13         5          61        7.0       42.0     10.0    1.0    1.0\n",
       "2013.14         5          62        4.0       35.0     18.0    5.0    0.0\n",
       "2014.15         3          38        5.0       25.0      5.0    3.0    0.0\n",
       "2015.16         5          61        9.0       42.0      3.0    4.0    3.0\n",
       "2016.17         5          57        4.0       26.0      5.0    3.0   19.0\n",
       "2018.19         3          24        3.0       11.0      4.0    6.0    0.0"
      ]
     },
     "execution_count": 30,
     "metadata": {},
     "output_type": "execute_result"
    }
   ],
   "source": [
    "gis_yr=gis.groupby('Year')\\\n",
    ".agg({'Year':'count','Total':'sum','Undergrad':'sum','Grad Stdt':'sum','Faculty':'sum','Staff':'sum','Other':'sum'})\\\n",
    ".rename(columns={'Year':'Sessions','Total':'Attendance'})\n",
    "gis_yr.index=gis_yr.index.astype(str)\n",
    "gis_yr"
   ]
  },
  {
   "cell_type": "code",
   "execution_count": 31,
   "metadata": {},
   "outputs": [
    {
     "data": {
      "text/plain": [
       "Year\n",
       "2010.11    2010.11\\n(3)\n",
       "2011.12    2011.12\\n(4)\n",
       "2012.13    2012.13\\n(5)\n",
       "2013.14    2013.14\\n(5)\n",
       "2014.15    2014.15\\n(3)\n",
       "2015.16    2015.16\\n(5)\n",
       "2016.17    2016.17\\n(5)\n",
       "2018.19    2018.19\\n(3)\n",
       "dtype: object"
      ]
     },
     "execution_count": 31,
     "metadata": {},
     "output_type": "execute_result"
    }
   ],
   "source": [
    "gis_label=gis_yr.index.astype(str) +'\\n' + '(' +gis_yr['Sessions'].astype(str)+')'\n",
    "gis_label"
   ]
  },
  {
   "cell_type": "code",
   "execution_count": 32,
   "metadata": {},
   "outputs": [
    {
     "data": {
      "text/plain": [
       "<Figure size 432x288 with 0 Axes>"
      ]
     },
     "metadata": {},
     "output_type": "display_data"
    },
    {
     "data": {
      "image/png": "[encoded data removed]",
      "text/plain": [
       "<Figure size 432x288 with 1 Axes>"
      ]
     },
     "metadata": {
      "needs_background": "light"
     },
     "output_type": "display_data"
    }
   ],
   "source": [
    "plt.figure()\n",
    "ax=gis_yr[['Undergrad','Grad Stdt','Faculty','Staff','Other']].plot.bar\\\n",
    "(stacked=True, rot=25, title=\"GIS Workshops\")\n",
    " \n",
    "ax.set_xticklabels(gis_label)\n",
    "ax.set_xlabel('Year (# Sessions)')\n",
    "ax.set_ylabel('Attendance')\n",
    "plt.legend(loc='upper center', bbox_to_anchor=(1, 1))\n",
    "\n",
    "plt.savefig('workshops.png',bbox_inches='tight')"
   ]
  },
  {
   "cell_type": "code",
   "execution_count": 33,
   "metadata": {},
   "outputs": [
    {
     "data": {
      "text/plain": [
       "Baruch           134\n",
       "Grad Center      102\n",
       "Hunter            45\n",
       "Other             29\n",
       "Lehman            26\n",
       "John Jay          15\n",
       "City College      13\n",
       "Brooklyn          13\n",
       "Queens            11\n",
       "Other CUNY         9\n",
       "Staten Island      5\n",
       "NYCCT              2\n",
       "York               1\n",
       "Medgar Evers       1\n",
       "dtype: object"
      ]
     },
     "execution_count": 33,
     "metadata": {},
     "output_type": "execute_result"
    }
   ],
   "source": [
    "gis_sum=gis.sum(axis=0)\n",
    "gis_schools=gis_sum.iloc[8:].sort_values(ascending=False)\n",
    "gis_schools.rename(index={'Other.1':'Other'},inplace=True)\n",
    "gis_schools"
   ]
  },
  {
   "cell_type": "code",
   "execution_count": 34,
   "metadata": {},
   "outputs": [],
   "source": [
    "smallsch=0\n",
    "for i,v in gis_schools.iteritems():\n",
    "    if v < 5:\n",
    "        smallsch = smallsch+v\n",
    "        gis_schools.drop(i, inplace=True)\n",
    "    else:\n",
    "        pass\n",
    "gis_schools.loc['Other CUNY']=gis_schools.loc['Other CUNY']+smallsch\n"
   ]
  },
  {
   "cell_type": "code",
   "execution_count": 35,
   "metadata": {},
   "outputs": [
    {
     "data": {
      "text/plain": [
       "4.0"
      ]
     },
     "execution_count": 35,
     "metadata": {},
     "output_type": "execute_result"
    }
   ],
   "source": [
    "smallsch"
   ]
  },
  {
   "cell_type": "code",
   "execution_count": 36,
   "metadata": {},
   "outputs": [
    {
     "data": {
      "text/plain": [
       "Baruch           134\n",
       "Grad Center      102\n",
       "Hunter            45\n",
       "Other             29\n",
       "Lehman            26\n",
       "John Jay          15\n",
       "City College      13\n",
       "Brooklyn          13\n",
       "Queens            11\n",
       "Other CUNY        13\n",
       "Staten Island      5\n",
       "dtype: int64"
      ]
     },
     "execution_count": 36,
     "metadata": {},
     "output_type": "execute_result"
    }
   ],
   "source": [
    "gis_schools"
   ]
  },
  {
   "cell_type": "code",
   "execution_count": 37,
   "metadata": {},
   "outputs": [
    {
     "data": {
      "text/plain": [
       "406"
      ]
     },
     "execution_count": 37,
     "metadata": {},
     "output_type": "execute_result"
    }
   ],
   "source": [
    "gis_total=gis_schools.sum()\n",
    "gis_total"
   ]
  },
  {
   "cell_type": "code",
   "execution_count": 38,
   "metadata": {},
   "outputs": [
    {
     "data": {
      "image/png": "[encoded data removed]",
      "text/plain": [
       "<Figure size 432x432 with 1 Axes>"
      ]
     },
     "metadata": {},
     "output_type": "display_data"
    }
   ],
   "source": [
    "gis_schools.plot.pie(legend=False, figsize=(6,6), \\\n",
    "                     title='Workshop Participants by School \\n ({} Participants in Total)'.format(gis_total), autopct='%i%%')\n",
    "plt.ylabel(\"\")\n",
    "plt.savefig('schools.png',bbox_inches='tight')"
   ]
  }
 ],
 "metadata": {
  "kernelspec": {
   "display_name": "Python 3",
   "language": "python",
   "name": "python3"
  },
  "language_info": {
   "codemirror_mode": {
    "name": "ipython",
    "version": 3
   },
   "file_extension": ".py",
   "mimetype": "text/x-python",
   "name": "python",
   "nbconvert_exporter": "python",
   "pygments_lexer": "ipython3",
   "version": "3.7.3"
  }
 },
 "nbformat": 4,
 "nbformat_minor": 2
}
